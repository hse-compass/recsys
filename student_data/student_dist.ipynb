{
 "cells": [
  {
   "cell_type": "markdown",
   "metadata": {},
   "source": [
    "# Раздел распределения студентов по комнатам\n"
   ]
  },
  {
   "cell_type": "code",
   "execution_count": 5,
   "metadata": {},
   "outputs": [
    {
     "name": "stdout",
     "output_type": "stream",
     "text": [
      "Распределение студентов по комнатам сохранено в файл: student_distribution.csv\n"
     ]
    }
   ],
   "source": [
    "import pandas as pd\n",
    "\n",
    "students_df = pd.read_csv(\"student_preferences.csv\")  \n",
    "rooms_df = pd.read_csv(\"rooms_details.csv\") \n",
    "\n",
    "# Подготовка списка комнат\n",
    "rooms = []\n",
    "for _, row in rooms_df.iterrows():\n",
    "    rooms.append({\n",
    "        \"Hostel_ID\": row[\"Hostel_ID\"],\n",
    "        \"Hostel_Name\": row[\"Hostel_Name\"],\n",
    "        \"Room_Number\": row[\"Room_Number\"],\n",
    "        \"Room_Type\": row[\"Room_Type\"],\n",
    "        \"Capacity\": row[\"Capacity\"],\n",
    "        \"Current_Occupants\": [],\n",
    "        \"Gender\": None  \n",
    "    })\n",
    "\n",
    "# Функция проверки возможности заселения\n",
    "def can_assign(room, student_gender):\n",
    "    if len(room[\"Current_Occupants\"]) >= room[\"Capacity\"]:\n",
    "        return False  # Комната заполнена\n",
    "    if room[\"Gender\"] is not None and room[\"Gender\"] != student_gender:\n",
    "        return False  # Пол комнаты не совпадает\n",
    "    return True\n",
    "\n",
    "# Распределение студентов\n",
    "for _, student in students_df.iterrows():\n",
    "    assigned = False\n",
    "    for room in rooms:\n",
    "        if can_assign(room, student[\"Gender\"]):\n",
    "            room[\"Current_Occupants\"].append(student[\"Student_ID\"])\n",
    "            room[\"Gender\"] = student[\"Gender\"] \n",
    "            assigned = True\n",
    "            break\n",
    "    if not assigned:\n",
    "        print(f\"Не удалось разместить студента: {student['Student_ID']}\")\n",
    "\n",
    "# Формирование конечного датафрейма\n",
    "room_assignments = []\n",
    "for room in rooms:\n",
    "    for occupant in room[\"Current_Occupants\"]:\n",
    "        student_data = students_df.loc[students_df[\"Student_ID\"] == occupant].iloc[0]\n",
    "        room_assignments.append({\n",
    "            \"Hostel_ID\": room[\"Hostel_ID\"],\n",
    "            \"Hostel_Name\": room[\"Hostel_Name\"],\n",
    "            \"Room_Number\": room[\"Room_Number\"],\n",
    "            \"Student_ID\": student_data[\"Student_ID\"],\n",
    "            \"Name\": student_data[\"Name\"],\n",
    "            \"Age\": student_data[\"Age\"],\n",
    "            \"Gender\": student_data[\"Gender\"],\n",
    "            \"Level_of_Higher_Education\": student_data[\"Level_of_Higher_Education\"],\n",
    "            \"Faculty\": student_data[\"Faculty\"],\n",
    "            \"Course\": student_data[\"Course\"]\n",
    "        })\n",
    "\n",
    "room_assignments_df = pd.DataFrame(room_assignments)\n",
    "output_path = \"student_distribution.csv\"\n",
    "room_assignments_df.to_csv(output_path, index=False, encoding=\"utf-8-sig\")\n",
    "\n",
    "print(f\"Распределение студентов по комнатам сохранено в файл: {output_path}\")\n",
    "\n"
   ]
  }
 ],
 "metadata": {
  "kernelspec": {
   "display_name": "base",
   "language": "python",
   "name": "python3"
  },
  "language_info": {
   "codemirror_mode": {
    "name": "ipython",
    "version": 3
   },
   "file_extension": ".py",
   "mimetype": "text/x-python",
   "name": "python",
   "nbconvert_exporter": "python",
   "pygments_lexer": "ipython3",
   "version": "3.12.3"
  }
 },
 "nbformat": 4,
 "nbformat_minor": 2
}
