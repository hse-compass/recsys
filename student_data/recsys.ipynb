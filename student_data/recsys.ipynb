{
 "cells": [
  {
   "cell_type": "markdown",
   "metadata": {},
   "source": [
    "# Формирование данных о студентах"
   ]
  },
  {
   "cell_type": "code",
   "execution_count": 4,
   "metadata": {},
   "outputs": [
    {
     "data": {
      "text/plain": [
       "'StudentsData.csv'"
      ]
     },
     "execution_count": 4,
     "metadata": {},
     "output_type": "execute_result"
    }
   ],
   "source": [
    "import csv\n",
    "import random\n",
    "\n",
    "faculties = [\n",
    "    \"Факультет математики\", \"Факультет гуманитарных наук\",\n",
    "    \"Факультет компьютерных наук\", \"Факультет социальных наук\",\n",
    "    \"Факультет права\", \"Факультет коммуникаций, медиа и дизайна\",\n",
    "    \"Факультет экономических наук\", \"Факультет бизнеса и менеджмента\",\n",
    "    \"Факультет мировой экономики и мировой политики\", \"Факультет урбанистики\"\n",
    "]\n",
    "\n",
    "education_levels = {\n",
    "    \"Бакалавриат\": 4,\n",
    "    \"Специалитет\": 5,\n",
    "    \"Магистратура\": 2,\n",
    "    \"Аспирантура\": 3\n",
    "}\n",
    "\n",
    "def generate_name():\n",
    "    first_names = [\n",
    "    \"Иван\", \"Петр\", \"Сергей\", \"Алексей\", \"Дмитрий\", \"Василий\", \"Андрей\", \"Николай\", \"Егор\", \"Максим\",\n",
    "    \"Артем\", \"Илья\", \"Григорий\", \"Александр\", \"Константин\", \"Михаил\", \"Юрий\", \"Антон\", \"Виктор\", \"Владимир\",\n",
    "    \"Кирилл\", \"Олег\", \"Станислав\", \"Роман\", \"Евгений\", \"Леонид\", \"Федор\", \"Тимур\", \"Аркадий\", \"Виталий\",\n",
    "    \"Геннадий\", \"Игнат\", \"Валерий\", \"Семен\", \"Георгий\", \"Матвей\", \"Борис\", \"Павел\", \"Елисей\", \"Руслан\",\n",
    "    \"Даниил\", \"Глеб\", \"Артур\", \"Тихон\", \"Анатолий\", \"Родион\", \"Захар\", \"Адам\", \"Яков\", \"Эдуард\",\n",
    "    \"Вячеслав\", \"Никита\", \"Прохор\", \"Еремей\", \"Владислав\", \"Леонтий\", \"Денис\", \"Филипп\", \"Юлиан\", \"Ефим\",\n",
    "    \"Тарас\", \"Варлам\", \"Вениамин\", \"Евсей\", \"Модест\", \"Платон\", \"Петр\", \"Савва\", \"Ярослав\", \"Савелий\",\n",
    "    \"Аким\", \"Ратмир\", \"Феликс\", \"Август\", \"Ерофей\", \"Демьян\", \"Альберт\", \"Клим\", \"Валентин\", \"Силантий\",\n",
    "    \"Агей\", \"Викентий\", \"Арсений\", \"Макар\", \"Тимофей\", \"Федот\", \"Эраст\", \"Кондрат\", \"Егорий\", \"Давид\"\n",
    "]  \n",
    "    last_names = [\n",
    "    \"Иванов\", \"Петров\", \"Смирнов\", \"Кузнецов\", \"Сидоров\", \"Фёдоров\", \"Михайлов\", \"Николаев\", \"Семенов\", \"Ковалёв\",\n",
    "    \"Новиков\", \"Павлов\", \"Соколов\", \"Волков\", \"Александров\", \"Григорьев\", \"Морозов\", \"Орлов\", \"Егоров\", \"Захаров\",\n",
    "    \"Лебедев\", \"Борисов\", \"Тарасов\", \"Беликов\", \"Гаврилов\", \"Карпов\", \"Беляев\", \"Голубев\", \"Поляков\", \"Мартынов\",\n",
    "    \"Дмитриев\", \"Герасимов\", \"Фролов\", \"Жуков\", \"Беляков\", \"Архипов\", \"Зуев\", \"Ефремов\", \"Панкратов\", \"Чернов\",\n",
    "    \"Титов\", \"Ларионов\", \"Воронов\", \"Федотов\", \"Ушаков\", \"Васильев\", \"Кириллов\", \"Миронов\", \"Сергеев\", \"Богданов\",\n",
    "    \"Макаров\", \"Шестаков\", \"Князев\", \"Кондратьев\", \"Крылов\", \"Прохоров\", \"Чернышев\", \"Капустин\", \"Осипов\", \"Быков\",\n",
    "    \"Сафонов\", \"Калашников\", \"Петухов\", \"Романов\", \"Чернов\", \"Шилов\", \"Федосеев\", \"Киселёв\", \"Шубин\", \"Мухин\",\n",
    "    \"Акимов\", \"Овчинников\", \"Горшков\", \"Тимофеев\", \"Сазонов\", \"Ершов\", \"Головин\", \"Виноградов\", \"Лазарев\", \"Маслов\",\n",
    "    \"Гордеев\", \"Дроздов\", \"Котов\", \"Трофимов\", \"Игнатьев\", \"Соловьёв\", \"Назаров\", \"Дьяков\", \"Шаров\", \"Кожевников\"\n",
    "] \n",
    "    middle_names = [\n",
    "    \"Иванович\", \"Петрович\", \"Алексеевич\", \"Дмитриевич\", \"Николаевич\", \"Андреевич\", \"Сергеевич\", \"Васильевич\",\n",
    "    \"Михайлович\", \"Александрович\", \"Юрьевич\", \"Артемович\", \"Романович\", \"Евгеньевич\", \"Леонидович\", \"Федорович\",\n",
    "    \"Викторович\", \"Владимирович\", \"Антонович\", \"Кириллович\", \"Олегович\", \"Станиславович\", \"Родионович\", \"Тимофеевич\",\n",
    "    \"Матвеевич\", \"Павлович\", \"Борисович\", \"Юлианович\", \"Аркадьевич\", \"Тарасович\", \"Вениаминович\", \"Платонович\",\n",
    "    \"Ярославович\", \"Савельевич\", \"Филиппович\", \"Григорьевич\", \"Федосеевич\", \"Тихонович\", \"Анатольевич\", \"Валерьевич\",\n",
    "    \"Артёмович\", \"Никитич\", \"Денисович\", \"Миронович\", \"Леонтьевич\", \"Валентинович\", \"Кондратьевич\", \"Эдуардович\",\n",
    "    \"Евсеевич\", \"Прохорович\", \"Семёнович\", \"Вячеславович\", \"Адамович\", \"Георгиевич\", \"Игнатьевич\", \"Захарович\",\n",
    "    \"Геннадьевич\", \"Еремеевич\", \"Станиславович\", \"Максимович\", \"Глебович\", \"Тимурович\", \"Даниилович\", \"Варламович\",\n",
    "    \"Арсеньевич\", \"Виталиевич\", \"Анатольевич\", \"Ратмирович\", \"Саввич\", \"Трофимович\", \"Филиппович\", \"Федотович\",\n",
    "    \"Георгиевич\", \"Дмитриевич\", \"Олегович\", \"Евграфович\", \"Юлианович\", \"Александрович\", \"Константинович\", \"Леонидович\"\n",
    "]  \n",
    "    \n",
    "    gender = random.choice([\"М\", \"Ж\"])\n",
    "    if gender == \"М\":\n",
    "        first_name = random.choice(first_names)\n",
    "        middle_name = random.choice(middle_names)\n",
    "        last_name = random.choice(last_names)\n",
    "    else:\n",
    "        first_name = random.choice([\n",
    "    \"Анна\", \"Мария\", \"Елена\", \"Ольга\", \"Татьяна\", \"Наталья\", \"Ирина\", \"Светлана\", \"Александра\", \"Екатерина\",\n",
    "    \"Юлия\", \"Дарья\", \"Виктория\", \"Анастасия\", \"Алёна\", \"Лариса\", \"Любовь\", \"Надежда\", \"Валентина\", \"Галина\",\n",
    "    \"Полина\", \"Вера\", \"Кристина\", \"Василиса\", \"Вероника\", \"Евгения\", \"Олеся\", \"Майя\", \"Лидия\", \"Алиса\",\n",
    "    \"Диана\", \"София\", \"Зоя\", \"Агния\", \"Ксения\", \"Таисия\", \"Регина\", \"Алина\", \"Милана\", \"Карина\",\n",
    "    \"Людмила\", \"Эльвира\", \"Серафима\", \"Елизавета\", \"Эвелина\", \"Маргарита\", \"Нина\", \"Алла\", \"Яна\", \"Лариса\",\n",
    "    \"Инна\", \"Аделина\", \"Римма\", \"Аврора\", \"Ангелина\", \"Тамара\", \"Ульяна\", \"Виолетта\", \"Ия\", \"Дарина\",\n",
    "    \"Влада\", \"Илона\", \"Жанна\", \"Мирослава\", \"Рита\", \"Стефания\", \"Валерия\", \"Элеонора\", \"Нелли\", \"Зинаида\",\n",
    "    \"Роза\", \"Евдокия\", \"Амелия\", \"Эмилия\", \"Анжелика\", \"Лилия\", \"Клара\", \"Изабелла\", \"Августа\", \"Гертруда\",\n",
    "    \"Марианна\", \"Ника\", \"Варвара\", \"Снежана\", \"Эльза\", \"Мелания\", \"Пелагея\", \"Лия\", \"Алевтина\", \"Арья\",\n",
    "    \"Дарина\", \"Нелли\", \"Анфиса\", \"Лариса\", \"Агата\", \"Лея\", \"Сара\", \"Ярослава\", \"Марта\", \"Венера\"\n",
    "])  \n",
    "        middle_name = random.choice([\n",
    "    \"Ивановна\", \"Петровна\", \"Алексеевна\", \"Дмитриевна\", \"Николаевна\", \"Андреевна\", \"Сергеевна\", \"Васильевна\",\n",
    "    \"Михайловна\", \"Александровна\", \"Юрьевна\", \"Артемовна\", \"Романовна\", \"Евгеньевна\", \"Леонидовна\", \"Федоровна\",\n",
    "    \"Викторовна\", \"Владимировна\", \"Антоновна\", \"Кирилловна\", \"Олеговна\", \"Станиславовна\", \"Родионовна\", \"Тимофеевна\",\n",
    "    \"Матвеевна\", \"Павловна\", \"Борисовна\", \"Юлиановна\", \"Аркадьевна\", \"Тарасовна\", \"Вениаминовна\", \"Платоновна\",\n",
    "    \"Ярославовна\", \"Савельевна\", \"Филипповна\", \"Григорьевна\", \"Федосеевна\", \"Тихоновна\", \"Анатольевна\", \"Валерьевна\",\n",
    "    \"Артемовна\", \"Никитична\", \"Денисовна\", \"Мироновна\", \"Леонтьевна\", \"Валентиновна\", \"Кондратьевна\", \"Эдуардовна\",\n",
    "    \"Евсеевна\", \"Прохоровна\", \"Семёновна\", \"Вячеславовна\", \"Адамовна\", \"Георгиевна\", \"Игнатьевна\", \"Захаровна\",\n",
    "    \"Геннадьевна\", \"Еремеевна\", \"Станиславовна\", \"Максимовна\", \"Глебовна\", \"Тимуровна\", \"Данииловна\", \"Варламовна\",\n",
    "    \"Арсеньевна\", \"Виталиевна\", \"Анатольевна\", \"Ратмировна\", \"Саввична\", \"Трофимовна\", \"Филипповна\", \"Федотовна\",\n",
    "    \"Георгиевна\", \"Дмитриевна\", \"Олеговна\", \"Евграфовна\", \"Юлиановна\", \"Александровна\", \"Константиновна\", \"Леонидовна\"\n",
    "]) \n",
    "        last_name = random.choice([\n",
    "    \"Иванова\", \"Петрова\", \"Смирнова\", \"Кузнецова\", \"Сидорова\", \"Фёдорова\", \"Михайлова\", \"Николаева\", \"Семенова\", \"Ковалева\",\n",
    "    \"Новикова\", \"Павлова\", \"Соколова\", \"Волкова\", \"Александрова\", \"Григорьева\", \"Морозова\", \"Орлова\", \"Егорова\", \"Захарова\",\n",
    "    \"Лебедева\", \"Борисова\", \"Тарасова\", \"Беликова\", \"Гаврилова\", \"Карпова\", \"Беляева\", \"Голубева\", \"Полякова\", \"Мартынова\",\n",
    "    \"Дмитриева\", \"Герасимова\", \"Фролова\", \"Жукова\", \"Белякова\", \"Архипова\", \"Зуева\", \"Ефремова\", \"Панкратова\", \"Чернова\",\n",
    "    \"Титова\", \"Ларионова\", \"Воронова\", \"Федотова\", \"Ушакова\", \"Васильева\", \"Кириллова\", \"Миронова\", \"Сергеева\", \"Богданова\",\n",
    "    \"Макарова\", \"Шестакова\", \"Князева\", \"Кондратьева\", \"Крылова\", \"Прохорова\", \"Чернышева\", \"Капустина\", \"Осипова\", \"Быкова\",\n",
    "    \"Сафонова\", \"Калашникова\", \"Петухова\", \"Романова\", \"Чернова\", \"Шилова\", \"Федосеева\", \"Киселева\", \"Шубина\", \"Мухина\",\n",
    "    \"Акимова\", \"Овчинникова\", \"Горшкова\", \"Тимофеева\", \"Сазонова\", \"Ершова\", \"Головина\", \"Виноградова\", \"Лазарева\", \"Маслова\",\n",
    "    \"Гордеева\", \"Дроздова\", \"Котова\", \"Трофимова\", \"Игнатьева\", \"Соловьева\", \"Назарова\", \"Дьякова\", \"Шарова\", \"Кожевникова\"\n",
    "])  \n",
    "    \n",
    "    return f\"{last_name} {first_name} {middle_name}\", gender\n",
    "\n",
    "# Генерация данных\n",
    "students_data = []\n",
    "unique_names = set()\n",
    "\n",
    "for student_id in range(1, 2001):\n",
    "    while True:\n",
    "        name, gender = generate_name()\n",
    "        if name not in unique_names:\n",
    "            unique_names.add(name)\n",
    "            break\n",
    "    \n",
    "    age = random.randint(18, 30)\n",
    "    level_of_education = random.choice(list(education_levels.keys()))\n",
    "    course = random.randint(1, education_levels[level_of_education])\n",
    "    faculty = random.choice(faculties)\n",
    "    \n",
    "    students_data.append([student_id, name, age, gender, level_of_education, faculty, course])\n",
    "\n",
    "file_path = \"StudentsData.csv\"\n",
    "with open(file_path, \"w\", newline=\"\", encoding=\"utf-8\") as csvfile:\n",
    "    writer = csv.writer(csvfile)\n",
    "    writer.writerow([\"Student_ID\", \"Name\", \"Age\", \"Gender\", \"Level_of_Higher_Education\", \"Faculty\", \"Course\"])\n",
    "    writer.writerows(students_data)\n",
    "\n",
    "file_path\n",
    "\n"
   ]
  },
  {
   "cell_type": "markdown",
   "metadata": {},
   "source": [
    "## Добавление языков, вероисповедания и интересов в данные о студентах"
   ]
  },
  {
   "cell_type": "code",
   "execution_count": 21,
   "metadata": {},
   "outputs": [
    {
     "name": "stdout",
     "output_type": "stream",
     "text": [
      "Генерация данных завершена. Файл сохранен: student_preferences.csv\n"
     ]
    }
   ],
   "source": [
    "import pandas as pd\n",
    "import numpy as np\n",
    "\n",
    "students_df = pd.read_csv(\"student_data/StudentsData.csv\")\n",
    "\n",
    "languages = [\"Русский\", \"Английский\", \"Китайский\"]\n",
    "religions = [\"Православие\", \"Ислам\", \"Буддизм\", \"Атеизм\"]\n",
    "interests = [\"Футбол\", \"Баскетбол\", \"Волейбол\", \"Настольный теннис\", \"Шахматы\", \"Настольные игры\", \"Программирование\", \"Музыка\", \"Рисование\"]\n",
    "\n",
    "num_students = len(students_df)\n",
    "language_distribution = np.random.choice([\"Русский\", \"Русский, Английский\", \"Английский\", \"Китайский, Английский\"],\n",
    "                                         size=num_students,\n",
    "                                         p=[0.39, 0.31, 0.25, 0.05])\n",
    "\n",
    "religion_distribution = np.random.choice(religions, size=num_students, p=[0.4, 0.2, 0.15, 0.25])\n",
    "\n",
    "interest_distribution = [\", \".join(np.random.choice(interests, size=np.random.randint(1, 4), replace=False)) for _ in range(num_students)]\n",
    "\n",
    "students_df[\"Languages\"] = language_distribution\n",
    "students_df[\"Religion\"] = religion_distribution\n",
    "students_df[\"Interests\"] = interest_distribution\n",
    "\n",
    "output_path = \"student_preferences.csv\"\n",
    "students_df.to_csv(output_path, index=False, encoding=\"utf-8-sig\")\n",
    "\n",
    "print(f\"Генерация данных завершена. Файл сохранен: {output_path}\")"
   ]
  },
  {
   "cell_type": "markdown",
   "metadata": {},
   "source": [
    "## Данные о свободных местах\n"
   ]
  },
  {
   "cell_type": "code",
   "execution_count": 9,
   "metadata": {},
   "outputs": [
    {
     "name": "stdout",
     "output_type": "stream",
     "text": [
      "Файл с данными о доступных местах сохранен: hostel_room_availability.csv\n"
     ]
    }
   ],
   "source": [
    "import pandas as pd\n",
    "\n",
    "hostel_info = pd.read_csv(\"dormitory/rooms_details.csv\")\n",
    "students = pd.read_csv(\"student_distribution.csv\" )\n",
    "\n",
    "# Группировка студентов по комнатам и считаем количество заселённых мест\n",
    "occupied_rooms = students.groupby([\"Hostel_ID\", \"Room_Number\"]).size().reset_index(name=\"Occupied_Slots\")\n",
    "\n",
    "# Объединение данных о вместимости комнат\n",
    "room_data = hostel_info.merge(occupied_rooms, on=[\"Hostel_ID\", \"Room_Number\"], how=\"left\").fillna(0)\n",
    "\n",
    "# Вычисление количество свободных мест\n",
    "room_data[\"Available_Slots\"] = room_data[\"Capacity\"] - room_data[\"Occupied_Slots\"]\n",
    "\n",
    "room_data = room_data[[\"Hostel_ID\", \"Room_Number\", \"Capacity\", \"Occupied_Slots\", \"Available_Slots\"]]\n",
    "\n",
    "output_file = \"hostel_room_availability.csv\"\n",
    "room_data.to_csv(output_file, index=False, encoding=\"utf-8-sig\")\n",
    "\n",
    "print(f\"Файл с данными о доступных местах сохранен: {output_file}\")\n"
   ]
  },
  {
   "cell_type": "markdown",
   "metadata": {},
   "source": [
    "## Рекомендательная система (контетная фильтрация). "
   ]
  },
  {
   "cell_type": "markdown",
   "metadata": {},
   "source": [
    "### Без учета свободных мест\n"
   ]
  },
  {
   "cell_type": "code",
   "execution_count": 2,
   "metadata": {},
   "outputs": [
    {
     "name": "stdout",
     "output_type": "stream",
     "text": [
      "Рекомендации по схожим студентам для 5:\n",
      "      Student_ID  Interests Religion            Languages  Hostel_ID  \\\n",
      "487          502  Баскетбол  Буддизм              Русский          2   \n",
      "878          910  Баскетбол  Буддизм              Русский          5   \n",
      "1048        1085  Баскетбол  Буддизм  Русский, Английский          5   \n",
      "\n",
      "      Room_Number  \n",
      "487             5  \n",
      "878             5  \n",
      "1048           48  \n"
     ]
    }
   ],
   "source": [
    "import pandas as pd\n",
    "from sklearn.feature_extraction.text import TfidfVectorizer\n",
    "from sklearn.metrics.pairwise import cosine_similarity\n",
    "\n",
    "students_df = pd.read_csv(\"student_distribution.csv\")\n",
    "\n",
    "# Создание текстового профиля для каждого студента\n",
    "students_df[\"Profile\"] = students_df[\"Interests\"] + \" \" + students_df[\"Religion\"] + \" \" + students_df[\"Languages\"]\n",
    "\n",
    "# Векторизация профилей студентов\n",
    "vectorizer = TfidfVectorizer()\n",
    "student_vectors = vectorizer.fit_transform(students_df[\"Profile\"])\n",
    "\n",
    "# Вычисление косинусного сходства\n",
    "similarity_matrix = cosine_similarity(student_vectors)\n",
    "\n",
    "def recommend_similar_students(student_id, top_n=3):\n",
    "    idx = students_df[students_df[\"Student_ID\"] == student_id].index[0]\n",
    "    sim_scores = list(enumerate(similarity_matrix[idx]))\n",
    "    sim_scores = sorted(sim_scores, key=lambda x: x[1], reverse=True)[1:top_n+1]\n",
    "    student_indices = [i[0] for i in sim_scores]\n",
    "    return students_df.iloc[student_indices][[\"Student_ID\", \"Interests\", \"Religion\", \"Languages\", \"Hostel_ID\", \"Room_Number\"]]\n",
    "\n",
    "student_id = 5\n",
    "print(f\"Рекомендации по схожим студентам для {student_id}:\")\n",
    "print(recommend_similar_students(student_id))\n"
   ]
  },
  {
   "cell_type": "code",
   "execution_count": 5,
   "metadata": {},
   "outputs": [
    {
     "name": "stdout",
     "output_type": "stream",
     "text": [
      "Рекомендации по схожим студентам для студента с ID 100:\n",
      "     Student_ID                            Interests  \\\n",
      "528         541  Музыка, Баскетбол, Программирование   \n",
      "288         296  Баскетбол, Музыка, Программирование   \n",
      "741         758  Музыка, Программирование, Баскетбол   \n",
      "\n",
      "    Level_of_Higher_Education Gender  Age            Languages  Hostel_ID  \\\n",
      "528              Магистратура      Ж   30              Русский          2   \n",
      "288              Магистратура      Ж   26           Английский          1   \n",
      "741              Магистратура      М   20  Русский, Английский          4   \n",
      "\n",
      "     Room_Number  \n",
      "528           13  \n",
      "288           60  \n",
      "741           64  \n"
     ]
    }
   ],
   "source": [
    "import pandas as pd\n",
    "from sklearn.feature_extraction.text import TfidfVectorizer\n",
    "from sklearn.metrics.pairwise import cosine_similarity\n",
    "\n",
    "# Загрузка данных\n",
    "students_df = pd.read_csv(\"student_distribution.csv\")\n",
    "\n",
    "# Преобразуем возраст в категории\n",
    "def age_to_category(age):\n",
    "    age = int(age)  # На всякий случай\n",
    "    if age <= 20:\n",
    "        return \"18_20\"\n",
    "    elif 21 <= age <= 25:\n",
    "        return \"21_25\"\n",
    "    elif 26 <= age <= 30:\n",
    "        return \"26_30\"\n",
    "    else:\n",
    "        return \"30_plus\"\n",
    "\n",
    "# Преобразуем возраст в текстовую категорию\n",
    "students_df[\"Age_Category\"] = students_df[\"Age\"].apply(age_to_category)\n",
    "\n",
    "# Создание текстового профиля для каждого студента\n",
    "students_df[\"Profile\"] = (\n",
    "    students_df[\"Interests\"] + \" \" +\n",
    "    students_df[\"Level_of_Higher_Education\"] + \" \" +\n",
    "    students_df[\"Languages\"] + \" \" +\n",
    "    students_df[\"Gender\"] + \" \" +\n",
    "    students_df[\"Age_Category\"]\n",
    ")\n",
    "\n",
    "# Векторизация профилей студентов с помощью TF-IDF\n",
    "vectorizer = TfidfVectorizer()\n",
    "student_vectors = vectorizer.fit_transform(students_df[\"Profile\"])\n",
    "\n",
    "# Вычисление косинусного сходства между всеми студентами\n",
    "similarity_matrix = cosine_similarity(student_vectors)\n",
    "\n",
    "# Функция для поиска похожих студентов\n",
    "def recommend_similar_students(student_id, top_n=3):\n",
    "    # Проверка, что student_id существует\n",
    "    if student_id not in students_df[\"Student_ID\"].values:\n",
    "        return f\"Студент с ID {student_id} не найден.\"\n",
    "\n",
    "    # Индекс нужного студента\n",
    "    idx = students_df[students_df[\"Student_ID\"] == student_id].index[0]\n",
    "\n",
    "    # Получаем список сходства\n",
    "    sim_scores = list(enumerate(similarity_matrix[idx]))\n",
    "\n",
    "    # Исключаем самого себя и сортируем по убыванию схожести\n",
    "    sim_scores = sorted(sim_scores, key=lambda x: x[1], reverse=True)[1:top_n + 1]\n",
    "\n",
    "    # Получаем индексы студентов, которые наиболее схожи\n",
    "    student_indices = [i[0] for i in sim_scores]\n",
    "\n",
    "    # Выводим информацию о похожих студентах\n",
    "    return students_df.iloc[student_indices][[\n",
    "        \"Student_ID\", \"Interests\", \"Level_of_Higher_Education\",\n",
    "        \"Gender\", \"Age\", \"Languages\", \"Hostel_ID\", \"Room_Number\"\n",
    "    ]]\n",
    "\n",
    "# Пример вызова рекомендации\n",
    "student_id = 100\n",
    "print(f\"Рекомендации по схожим студентам для студента с ID {student_id}:\")\n",
    "print(recommend_similar_students(student_id))\n"
   ]
  },
  {
   "cell_type": "markdown",
   "metadata": {},
   "source": [
    "## С учетом свободных мест"
   ]
  },
  {
   "cell_type": "code",
   "execution_count": 14,
   "metadata": {},
   "outputs": [
    {
     "name": "stdout",
     "output_type": "stream",
     "text": [
      "Рекомендации для нового студента:\n",
      "    Student_ID                             Interests Religion  \\\n",
      "1           35                     Рисование, Музыка    Ислам   \n",
      "80        1052                                Музыка    Ислам   \n",
      "40         462  Рисование, Музыка, Настольный теннис    Ислам   \n",
      "\n",
      "              Languages  Hostel_ID  Room_Number  \n",
      "1               Русский          1            8  \n",
      "80  Русский, Английский          5           38  \n",
      "40              Русский          1           93  \n"
     ]
    }
   ],
   "source": [
    "import pandas as pd\n",
    "from sklearn.feature_extraction.text import TfidfVectorizer\n",
    "from sklearn.metrics.pairwise import cosine_similarity\n",
    "\n",
    "students_df = pd.read_csv(\"student_distribution.csv\")\n",
    "availability_df = pd.read_csv(\"hostel_room_availability.csv\")\n",
    "\n",
    "# Фильтр только доступных комнат\n",
    "available_rooms = availability_df[availability_df[\"Available_Slots\"] > 0]\n",
    "students_df = students_df.merge(available_rooms[[\"Hostel_ID\", \"Room_Number\"]], on=[\"Hostel_ID\", \"Room_Number\"], how=\"inner\")\n",
    "\n",
    "# Создание текстового профиля для каждого студента\n",
    "students_df[\"Profile\"] = students_df[\"Interests\"] + \" \" + students_df[\"Religion\"] + \" \" + students_df[\"Languages\"]\n",
    "\n",
    "# Добавляем нового студента \n",
    "new_student = pd.DataFrame([{\n",
    "    \"Student_ID\": \"New_Student\",\n",
    "    \"Interests\": \"Рисование, Музыка\",\n",
    "    \"Religion\": \"Ислам\",\n",
    "    \"Languages\": \"Русский\",\n",
    "    \"Profile\": \"Рисование Музыка Ислам Русский\"\n",
    "}])\n",
    "\n",
    "# Векторизация профилей\n",
    "vectorizer = TfidfVectorizer()\n",
    "student_profiles = pd.concat([students_df[[\"Profile\"]], new_student[[\"Profile\"]]]) \n",
    "student_vectors = vectorizer.fit_transform(student_profiles[\"Profile\"])\n",
    "\n",
    "# Вычисление косинусного сходства\n",
    "similarity_matrix = cosine_similarity(student_vectors)\n",
    "\n",
    "def recommend_similar_students(top_n=3):\n",
    "    idx = len(students_df)  \n",
    "    sim_scores = list(enumerate(similarity_matrix[idx][:-1]))  \n",
    "    sim_scores = sorted(sim_scores, key=lambda x: x[1], reverse=True)[:top_n]\n",
    "    student_indices = [i[0] for i in sim_scores]\n",
    "\n",
    "    return students_df.iloc[student_indices][[\"Student_ID\", \"Interests\", \"Religion\", \"Languages\", \"Hostel_ID\", \"Room_Number\"]]\n",
    "\n",
    "print(\"Рекомендации для нового студента:\")\n",
    "print(recommend_similar_students())\n"
   ]
  },
  {
   "cell_type": "markdown",
   "metadata": {},
   "source": [
    "## Коллаборативная фильтрация"
   ]
  },
  {
   "cell_type": "code",
   "execution_count": 7,
   "metadata": {},
   "outputs": [
    {
     "name": "stdout",
     "output_type": "stream",
     "text": [
      "Файл с рейтингами сохранен: student_ratings.csv\n"
     ]
    }
   ],
   "source": [
    "import pandas as pd\n",
    "import numpy as np\n",
    "\n",
    "students_df = pd.read_csv(\"student_distribution.csv\")\n",
    "\n",
    "np.random.seed(42)\n",
    "students_df[\"Rating\"] = np.random.randint(1, 6, size=len(students_df))\n",
    "\n",
    "ratings_df = students_df[[\"Student_ID\", \"Hostel_ID\", \"Room_Number\", \"Rating\"]]\n",
    "\n",
    "ratings_file = \"student_ratings.csv\"\n",
    "ratings_df.to_csv(ratings_file, index=False, encoding=\"utf-8-sig\")\n",
    "\n",
    "print(f\"Файл с рейтингами сохранен: {ratings_file}\")\n"
   ]
  },
  {
   "cell_type": "code",
   "execution_count": null,
   "metadata": {},
   "outputs": [
    {
     "name": "stdout",
     "output_type": "stream",
     "text": [
      "RMSE: 1.4765\n",
      "RMSE: 1.4765373819641758\n",
      "Рекомендации для студента 25:\n",
      "[(2, 3.5737831071974817), (5, 3.3384345017768062), (3, 3.2938993069636595)]\n"
     ]
    }
   ],
   "source": [
    "from surprise import Dataset, Reader, SVD\n",
    "from surprise.model_selection import train_test_split\n",
    "from surprise import accuracy\n",
    "\n",
    "reader = Reader(rating_scale=(1, 5))\n",
    "ratings_data = Dataset.load_from_df(pd.read_csv(\"student_ratings.csv\")[[\"Student_ID\", \"Hostel_ID\", \"Rating\"]], reader)\n",
    "\n",
    "trainset, testset = train_test_split(ratings_data, test_size=0.2)\n",
    "\n",
    "# Обучаем модель SVD\n",
    "algo = SVD()\n",
    "algo.fit(trainset)\n",
    "\n",
    "# точность предсказаний\n",
    "predictions = algo.test(testset)\n",
    "print(f\"RMSE: {accuracy.rmse(predictions)}\")\n",
    "\n",
    "# Функция для рекомендации общежитий\n",
    "def recommend_hostels(student_id, top_n=3):\n",
    "    all_hostels = pd.read_csv(\"hostel_room_availability.csv\")[\"Hostel_ID\"].unique()\n",
    "    \n",
    "    predictions = [(hostel, algo.predict(student_id, hostel).est) for hostel in all_hostels]\n",
    "    predictions.sort(key=lambda x: x[1], reverse=True)\n",
    "    \n",
    "    return predictions[:top_n]\n",
    "\n",
    "student_id = 25\n",
    "print(f\"Рекомендации для студента {student_id}:\")\n",
    "print(recommend_hostels(student_id))\n"
   ]
  },
  {
   "cell_type": "markdown",
   "metadata": {},
   "source": [
    "# Использование библиотеки TensorRec\n"
   ]
  },
  {
   "cell_type": "code",
   "execution_count": 2,
   "metadata": {},
   "outputs": [],
   "source": [
    "import pandas as pd\n",
    "from sklearn.preprocessing import MultiLabelBinarizer\n",
    "from scipy.sparse import csr_matrix\n",
    "\n",
    "# Загрузка данных\n",
    "students_df = pd.read_csv(\"student_distribution.csv\")\n",
    "\n",
    "def age_to_category(age):\n",
    "    age = int(age)\n",
    "    if age <= 20:\n",
    "        return \"18_20\"\n",
    "    elif 21 <= age <= 25:\n",
    "        return \"21_25\"\n",
    "    elif 26 <= age <= 30:\n",
    "        return \"26_30\"\n",
    "    else:\n",
    "        return \"30_plus\"\n",
    "\n",
    "students_df[\"Age_Category\"] = students_df[\"Age\"].apply(age_to_category)\n",
    "\n",
    "students_df[\"Interests\"] = students_df[\"Interests\"].apply(lambda x: x.split(\", \"))\n",
    "students_df[\"Languages\"] = students_df[\"Languages\"].apply(lambda x: x.split(\", \"))\n",
    "\n",
    "students_categorical = pd.get_dummies(\n",
    "    students_df[[\"Gender\", \"Level_of_Higher_Education\", \"Faculty\", \"Age_Category\"]]\n",
    ")\n",
    "students_categorical = students_categorical.astype(int)\n",
    "\n",
    "mlb_interests = MultiLabelBinarizer()\n",
    "mlb_languages = MultiLabelBinarizer()\n",
    "\n",
    "interests_encoded = pd.DataFrame(\n",
    "    mlb_interests.fit_transform(students_df[\"Interests\"]),\n",
    "    columns=mlb_interests.classes_\n",
    ")\n",
    "languages_encoded = pd.DataFrame(\n",
    "    mlb_languages.fit_transform(students_df[\"Languages\"]),\n",
    "    columns=mlb_languages.classes_\n",
    ")\n",
    "\n",
    "students_features = pd.concat(\n",
    "    [students_df[\"Student_ID\"], students_categorical, interests_encoded, languages_encoded],\n",
    "    axis=1\n",
    ")\n",
    "\n",
    "students_features_sparse = csr_matrix(students_features.drop(columns=[\"Student_ID\"]).values)\n",
    "students_ids = students_df[\"Student_ID\"].values\n"
   ]
  },
  {
   "cell_type": "code",
   "execution_count": 3,
   "metadata": {},
   "outputs": [],
   "source": [
    "rooms_df = pd.read_csv(\"dormitory/rooms_details.csv\")\n",
    "\n",
    "room_features_df = pd.get_dummies(rooms_df[[\"Room_Type\", \"Hostel_Name\"]])\n",
    "room_features_df = room_features_df.astype(int)\n",
    "room_features_df[\"Capacity\"] = rooms_df[\"Capacity\"]\n",
    "\n",
    "item_features_matrix = csr_matrix(room_features_df.values)\n",
    "\n"
   ]
  },
  {
   "cell_type": "code",
   "execution_count": null,
   "metadata": {},
   "outputs": [
    {
     "name": "stderr",
     "output_type": "stream",
     "text": [
      "C:\\Users\\mixas\\AppData\\Local\\Temp\\ipykernel_23568\\3642690774.py:9: SettingWithCopyWarning: \n",
      "A value is trying to be set on a copy of a slice from a DataFrame.\n",
      "Try using .loc[row_indexer,col_indexer] = value instead\n",
      "\n",
      "See the caveats in the documentation: https://pandas.pydata.org/pandas-docs/stable/user_guide/indexing.html#returning-a-view-versus-a-copy\n",
      "  interactions_df[\"Interaction\"] = 1\n"
     ]
    }
   ],
   "source": [
    "import pandas as pd\n",
    "from scipy.sparse import coo_matrix\n",
    "\n",
    "student_distribution_df = pd.read_csv(\"student_distribution.csv\")\n",
    "\n",
    "interactions_df = student_distribution_df[[\"Student_ID\", \"Room_Number\"]]\n",
    "interactions_df[\"Interaction\"] = 1\n",
    "\n",
    "student_ids = student_distribution_df[\"Student_ID\"].unique()\n",
    "room_ids = student_distribution_df[\"Room_Number\"].unique()\n",
    "\n",
    "student_to_idx = {student_id: idx for idx, student_id in enumerate(student_ids)}\n",
    "room_to_idx = {room_id: idx for idx, room_id in enumerate(room_ids)}\n",
    "\n",
    "interactions_matrix = coo_matrix(\n",
    "    (\n",
    "        interactions_df[\"Interaction\"],\n",
    "        (\n",
    "            interactions_df[\"Student_ID\"].map(student_to_idx),\n",
    "            interactions_df[\"Room_Number\"].map(room_to_idx),\n",
    "        )\n",
    "    ),\n",
    "    shape=(len(student_ids), len(room_ids))\n",
    ")\n",
    "\n",
    "\n"
   ]
  },
  {
   "cell_type": "code",
   "execution_count": 5,
   "metadata": {},
   "outputs": [
    {
     "name": "stdout",
     "output_type": "stream",
     "text": [
      "User features shape: (1159, 31)\n",
      "Item features shape: (1221, 26)\n",
      "Interactions shape: (1159, 131)\n"
     ]
    }
   ],
   "source": [
    "print(f\"User features shape: {students_features_sparse.shape}\")\n",
    "print(f\"Item features shape: {item_features_matrix.shape}\")\n",
    "print(f\"Interactions shape: {interactions_matrix.shape}\")\n"
   ]
  },
  {
   "cell_type": "code",
   "execution_count": 6,
   "metadata": {},
   "outputs": [
    {
     "ename": "",
     "evalue": "",
     "output_type": "error",
     "traceback": [
      "\u001b[1;31mПри выполнении кода в текущей ячейке или предыдущей ячейке ядро аварийно завершило работу. \n",
      "\u001b[1;31mПроверьте код в ячейках, чтобы определить возможную причину сбоя. \n",
      "\u001b[1;31mЩелкните <a href='https://aka.ms/vscodeJupyterKernelCrash'>здесь</a>, чтобы получить дополнительные сведения. \n",
      "\u001b[1;31mПодробнее см. в <a href='command:jupyter.viewOutput'>журнале Jupyter</a>."
     ]
    }
   ],
   "source": [
    "from lightfm import LightFM\n",
    "from lightfm.evaluation import precision_at_k\n",
    "\n",
    "model = LightFM(loss='warp')\n",
    "\n",
    "# Обучение модель\n",
    "model.fit(\n",
    "    interactions=interactions_matrix,\n",
    "    user_features=students_features_sparse,\n",
    "    item_features=item_features_matrix,\n",
    "    epochs=30,\n",
    "    num_threads=4\n",
    ")\n",
    "\n",
    "\n",
    "print(\"Precision@K:\", precision_at_k(model, interactions_matrix, user_features=students_features_sparse, item_features=item_features_matrix, k=5).mean())\n"
   ]
  }
 ],
 "metadata": {
  "kernelspec": {
   "display_name": "base",
   "language": "python",
   "name": "python3"
  },
  "language_info": {
   "codemirror_mode": {
    "name": "ipython",
    "version": 3
   },
   "file_extension": ".py",
   "mimetype": "text/x-python",
   "name": "python",
   "nbconvert_exporter": "python",
   "pygments_lexer": "ipython3",
   "version": "3.12.3"
  }
 },
 "nbformat": 4,
 "nbformat_minor": 2
}
